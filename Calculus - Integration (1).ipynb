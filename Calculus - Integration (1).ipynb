{
 "cells": [
  {
   "cell_type": "markdown",
   "metadata": {},
   "source": [
    "<title>Integration</title>"
   ]
  },
  {
   "cell_type": "markdown",
   "metadata": {},
   "source": [
    "## Integration\n",
    "by Eugenio Andrieu "
   ]
  },
  {
   "cell_type": "markdown",
   "metadata": {},
   "source": [
    "Integration is one of the basic operations in calculus. The [scipy.integrate](https://docs.scipy.org/doc/scipy/reference/integrate.html#module-scipy.integrate) sub-package provides an easy-to-use set of functions that allows users to calculate simple, double and tripple integrals. In this tutorial we will see how to use them to calculate the integrals of some simple functions."
   ]
  },
  {
   "cell_type": "markdown",
   "metadata": {},
   "source": [
    "## Simple integrals"
   ]
  },
  {
   "cell_type": "markdown",
   "metadata": {},
   "source": [
    "Integrals of univariate functions can be done with the quad function. In its simplest form, this function has the following syntax:<br/><br/>\n",
    "**<div align=\"center\"> scipy.integrate.quad(func, a, b)</div>**<br/>\n",
    "where\n",
    "a and b are float values that represent the lower and upper limit of the integration respectively, and func is the function to be integrated.<br/>\n",
    "In the example code, we will calculate the following integral:\n",
    "\n",
    "<div align=\"center\">$\\int\\limits_0^1$xdx = $^1/_2$</div>\t"
   ]
  },
  {
   "cell_type": "code",
   "execution_count": 4,
   "metadata": {},
   "outputs": [
    {
     "data": {
      "text/plain": [
       "(0.5, 5.551115123125783e-15)"
      ]
     },
     "execution_count": 4,
     "metadata": {},
     "output_type": "execute_result"
    }
   ],
   "source": [
    "# Import the integrate subpackage\n",
    "import scipy.integrate as integrate\n",
    "\n",
    "# Define the function to be integrated. In our case, f(x) =  x.\n",
    "def myFunction(x):\n",
    "    return x\n",
    "    \n",
    "# Invoke the quad function and integrate myFunction between 0 and 1.\n",
    "result = integrate.quad(myFunction, 0, 1)\n",
    "\n",
    "# Show the result\n",
    "result"
   ]
  },
  {
   "cell_type": "markdown",
   "metadata": {},
   "source": [
    "As we can see, the results shows the correct value of 0.5 or 1/2, with a calculated error of 5e-15."
   ]
  },
  {
   "cell_type": "markdown",
   "metadata": {},
   "source": [
    "## Double integrals"
   ]
  },
  {
   "cell_type": "markdown",
   "metadata": {},
   "source": [
    "Integrals of functions with two variables can be done with the dblquad function. In its simplest form, this function has the following syntax:\n",
    "\n",
    "\n",
    "**<div align=\"center\">scipy.integrate.dblquad(func, a, b,f(x),g(x))</div>**\n",
    "\n",
    "where:<br/><br/>\n",
    "a and b are float values that represent the lower and upper limit in x ,f(x) and g(x) are functions in x that represent the limits in y, and func is the function to be integrated.<br/>\n",
    "In the example code, we will calculate the following integral:<br/>\n",
    "<div align=\"center\">$\\int\\limits_0^1$$\\int\\limits_0^1$ xy dxdy = $^1/_4$.</div>\t"
   ]
  },
  {
   "cell_type": "code",
   "execution_count": 2,
   "metadata": {},
   "outputs": [
    {
     "name": "stdout",
     "output_type": "stream",
     "text": [
      "0.24999999999999997\n",
      "5.539061329123429e-15\n"
     ]
    }
   ],
   "source": [
    "from scipy.integrate import dblquad\n",
    "\n",
    "def integrand(y, x):  # Inverted order: y must be the first argument, and x the second. \n",
    "    return y * x\n",
    "\n",
    "result, err = dblquad(integrand, 0, 1,\n",
    "                   lambda x: 0, # we use the lambda function because the lower limit in y has to be a function in x\n",
    "                   lambda x: 1) # we use the lambda function because the lower limit in y has to be a function in x\n",
    "print(result) \n",
    "print(err)"
   ]
  },
  {
   "cell_type": "markdown",
   "metadata": {},
   "source": [
    "As we can see, the results shows the correct value of 0.25 or 1/2, with a calculated error of 5e-15."
   ]
  },
  {
   "cell_type": "markdown",
   "metadata": {},
   "source": [
    "Integrals of functions with three variables can be done with the quad function. In its simplest form, this function has the following syntax:\n",
    "\n",
    "\n",
    "**<div align=\"center\">scipy.integrate.tplquad(func, a, b,f(x),g(x),h(x,y),i(x,y))</div>**\n",
    "\n",
    "where:<br/><br/>\n",
    "a and b are float values that represent the lower and upper limit in x , f(x) and g(x) are functions in x that represent the limits in y, h(x,y) and i(x,y) are functions in x and y that represent the limits in z, and func is the function to be integrated.<br/>\n",
    "In the example code, we will calculate the following integral:<br/>\n",
    "<div align=\"center\">$\\int\\limits_0^1$$\\int\\limits_0^1$$\\int\\limits_0^1$ xyz dxdy = $^1/_8$.</div>\t"
   ]
  },
  {
   "cell_type": "code",
   "execution_count": 3,
   "metadata": {},
   "outputs": [
    {
     "name": "stdout",
     "output_type": "stream",
     "text": [
      "0.12499999999999999\n",
      "5.527033708952211e-15\n"
     ]
    }
   ],
   "source": [
    "from scipy.integrate import tplquad\n",
    "\n",
    "def integrand(z, y, x):  # Inverted order: z must be the first argument, y the second and x the third. f(x,y,z)\n",
    "    return y * x * z\n",
    "\n",
    "result, err = tplquad(integrand, 0, 1,\n",
    "                   lambda x: 0, # f(x) = 0. We use the lambda function because the lower limit in y has to be a function in x\n",
    "                   lambda x: 1, # g(x) = 1\n",
    "                   lambda x,y: 0, # h(x,y) = 0\n",
    "                   lambda x,y: 1)  # i(x,y) = 1\n",
    "                 \n",
    "print(result) \n",
    "print(err)"
   ]
  },
  {
   "cell_type": "markdown",
   "metadata": {},
   "source": [
    "As we can see, the results shows the correct value of 0.125 or 1/2, with a calculated error of 6e-15."
   ]
  }
 ],
 "metadata": {
  "kernelspec": {
   "display_name": "Python 3",
   "language": "python",
   "name": "python3"
  },
  "language_info": {
   "codemirror_mode": {
    "name": "ipython",
    "version": 3
   },
   "file_extension": ".py",
   "mimetype": "text/x-python",
   "name": "python",
   "nbconvert_exporter": "python",
   "pygments_lexer": "ipython3",
   "version": "3.7.3"
  }
 },
 "nbformat": 4,
 "nbformat_minor": 2
}
